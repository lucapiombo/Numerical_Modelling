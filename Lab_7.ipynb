{
  "cells": [
    {
      "cell_type": "markdown",
      "metadata": {
        "id": "15xy_diJaZ2C"
      },
      "source": [
        "# LAB 7\n",
        "\n",
        "This Lab introduces the Reaction term into the Advection-Diffusion-Reaction problems"
      ]
    },
    {
      "cell_type": "code",
      "execution_count": null,
      "metadata": {
        "id": "uQNy81v-c_-w"
      },
      "outputs": [],
      "source": [
        "# Installation of firedrake\n",
        "try:\n",
        "  import firedrake\n",
        "except ImportError:\n",
        "  !wget \"https://fem-on-colab.github.io/releases/firedrake-install-real.sh\" -O \"/tmp/firedrake-install.sh\" && bash \"/tmp/firedrake-install.sh\"\n",
        "  import firedrak"
      ]
    },
    {
      "cell_type": "markdown",
      "metadata": {
        "id": "4RfYGenVbNVU"
      },
      "source": [
        "## EXERCISE 1:\n",
        "\n",
        "Let us consider the diffusion-reaction problem\n",
        "$$\n",
        "\\begin{cases}\n",
        "- \\nabla \\cdot (\\mu \\nabla u) + \\sigma u = f & \\text{in $\\Omega = (0,1)\\times(0,1)$} \\\\\n",
        "u = 0 & \\text{on $x=0 \\cup y=0$} \\\\\n",
        "u = 1 & \\text{on $x=1 \\cup y=1$}\n",
        "\\end{cases}\n",
        "$$\n",
        "with $\\mu = 10^{-4}$, $\\sigma = 1$, $f = 0$. \\\\\n",
        "\n",
        "(a) Write the weak formulation of the problem. \\\\\n",
        "(b) Estimate the mesh size needed to obtain a reactive Péclet number $Pe < 1$. \\\\\n",
        "(c) Solve the problem in Firedrake using the mass-lumping technique (see https://www.firedrakeproject.org/demos/igher_order_mass_lumping.py.html for a reference).\n"
      ]
    },
    {
      "cell_type": "markdown",
      "metadata": {
        "id": "d5xyDQ5fbuMa"
      },
      "source": [
        "### (a) Write the weak formulation of the problem."
      ]
    },
    {
      "cell_type": "markdown",
      "metadata": {
        "id": "AeX6Ff6_-UVb"
      },
      "source": [
        "The weak form of the above problem is: \\\\\n",
        "\n",
        "$$\n",
        "\\int_{\\Omega} (-μ \\Delta u + σu)v \\, dx\n",
        "$$\n",
        "\n",
        "Now integrating by parts the first term of the integral: \\\\\n",
        "$$\n",
        "-μ \\int_{\\Omega} \\Delta u v \\, dx = -μ (\\int_{\\partial\\Omega} \\boldsymbol{∇}u \\cdot \\boldsymbol{n} v \\, ds - \\int_{\\Omega} \\boldsymbol{∇} u \\cdot \\boldsymbol{∇}v \\, dx)\n",
        "$$\n",
        "\n",
        "Now, the boundary $\\partial Ω$ can be divided into Newmann and Diriclet. Since this time we only have Diriclet, then the weak firmulation becomes: \\\\\n",
        "\n",
        "$$\n",
        "\\text{Find } u\\in \\{ v \\in H^1(\\Omega) \\, : \\, v|_{ \\partial \\Omega} = g_D\\} \\;\\text{ such that } \\; a(u, v) = L(v) \\quad \\forall v\\in H^1_0(\\Omega),\n",
        "$$ \\\\\n",
        "\n",
        "where the bilinear form is \\\\\n",
        "\n",
        "\\begin{equation*}\n",
        "  a(u, v) = \\int_0^1 \\left( \\mu \\boldsymbol{\\nabla} u\\cdot \\boldsymbol{\\nabla} v + \\sigma u v \\right)\\, d\\boldsymbol{x},\n",
        "\\end{equation*} \\\\\n",
        "\n",
        "and the linear functional \\\\\n",
        "\n",
        "\\begin{equation*}\n",
        "  L(v) = \\int_\\Omega f v \\, d\\boldsymbol{x}.\n",
        "\\end{equation*} \\\\\n",
        "\n",
        "\\\\\n",
        "\n",
        "\\\\\n",
        "\n",
        "NOTE: here we've two different Diriclèt B.C.s (check in the problem how to set them using Firedrake)"
      ]
    },
    {
      "cell_type": "markdown",
      "metadata": {
        "id": "Zjeut4mhb3AT"
      },
      "source": [
        "### (b) Estimate the mesh size needed to obtain a reactive Péclet number $Pe < 1$."
      ]
    },
    {
      "cell_type": "markdown",
      "metadata": {
        "id": "jVjLtPMuCnfH"
      },
      "source": [
        "The reactive Péclet number is defined as: \\\\\n",
        "\n",
        "$$\n",
        "Pe = \\frac{\\sigma h^2}{6 \\mu}.\n",
        "$$ \\\\\n",
        "\n",
        "Now, to have a stable problem which means have a $Pe < 1$ we need a mesh size: \\\\\n",
        "\n",
        "$$\n",
        "h < \\sqrt{\\frac{6\\mu}{σ}}\n",
        "$$"
      ]
    },
    {
      "cell_type": "markdown",
      "metadata": {
        "id": "VzKOIS6WFFSo"
      },
      "source": [
        "### (c) Solve the problem in Firedrake using the mass-lumping technique"
      ]
    },
    {
      "cell_type": "code",
      "execution_count": null,
      "metadata": {
        "id": "2gWNHhK9aWO3"
      },
      "outputs": [],
      "source": [
        "from firedrake import *\n",
        "import finat\n",
        "\n",
        "import matplotlib.pyplot as plt\n",
        "import firedrake.pyplot as fdplt\n",
        "import numpy as np"
      ]
    },
    {
      "cell_type": "code",
      "execution_count": null,
      "metadata": {
        "id": "kCpTiqb7cNxk"
      },
      "outputs": [],
      "source": [
        "# Define the Mesh:\n",
        "N = 10\n",
        "mesh = UnitSquareMesh(N, N)\n",
        "V = FunctionSpace(mesh, 'P', 1)\n",
        "\n",
        "# # Plot the mesh:\n",
        "# fig, ax = plt.subplots()\n",
        "# fdplt.triplot(mesh, axes=ax)\n",
        "# ax.legend()"
      ]
    },
    {
      "cell_type": "markdown",
      "metadata": {
        "id": "BnS_KQIYFVdG"
      },
      "source": [
        "This mesh il not good to have an accurate solution, in fact th Peclet nuber is:"
      ]
    },
    {
      "cell_type": "code",
      "execution_count": null,
      "metadata": {
        "colab": {
          "base_uri": "https://localhost:8080/"
        },
        "id": "SiIcdG7bCtJy",
        "outputId": "f4d8bd46-379e-45c8-b01f-9047f1202a8f"
      },
      "outputs": [
        {
          "name": "stdout",
          "output_type": "stream",
          "text": [
            "Mean Peclet number =  33.33333333333333\n"
          ]
        }
      ],
      "source": [
        "h = CellDiameter(mesh)\n",
        "Pe = sigma*h**2/(6*mu) # Pointwise value\n",
        "meanPe = assemble(Pe*dx)\n",
        "print('Mean Peclet number = ', meanPe)"
      ]
    },
    {
      "cell_type": "markdown",
      "metadata": {
        "id": "bAAUQvhxFgVG"
      },
      "source": [
        "Let's first see that the solution in this way is NOT good"
      ]
    },
    {
      "cell_type": "code",
      "execution_count": null,
      "metadata": {
        "colab": {
          "base_uri": "https://localhost:8080/",
          "height": 452
        },
        "id": "Py_ngYwBdMeJ",
        "outputId": "8c8d8a5e-c009-43df-94c2-243103a3828a"
      },
      "outputs": [
        {
          "data": {
            "text/plain": [
              "<matplotlib.colorbar.Colorbar at 0x7d8a06acba90>"
            ]
          },
          "execution_count": 46,
          "metadata": {},
          "output_type": "execute_result"
        },
        {
          "data": {
            "image/png": "[encoded data removed]",
            "text/plain": [
              "<Figure size 640x480 with 2 Axes>"
            ]
          },
          "metadata": {},
          "output_type": "display_data"
        }
      ],
      "source": [
        "# Set data:\n",
        "mu = Constant(1e-4)\n",
        "sigma = Constant(1.)\n",
        "f = Constant(0.)\n",
        "\n",
        "\n",
        "# Boundary conditions:\n",
        "bc0 = DirichletBC(V, Constant(0.), (1, 3))\n",
        "bc1 = DirichletBC(V, Constant(1.), (2, 4))\n",
        "\n",
        "\n",
        "# Define the weak formulation:\n",
        "u = TrialFunction(V)\n",
        "v = TestFunction(V)\n",
        "\n",
        "a = mu*dot(grad(u), grad(v)) * dx + sigma * u * v * dx\n",
        "L = f * v * dx\n",
        "\n",
        "# Solve the problem:\n",
        "u_h = Function(V)\n",
        "solve(a==L, u_h, bcs=(bc0, bc1))\n",
        "\n",
        "\n",
        "# Plot the results:\n",
        "fig, ax = plt.subplots()\n",
        "q = fdplt.tricontourf(u_h, axes=ax, levels=20)\n",
        "plt.colorbar(q)"
      ]
    },
    {
      "cell_type": "markdown",
      "metadata": {
        "id": "vhT4KEZVeuJu"
      },
      "source": [
        "We notice that we're getting some negative values and it is not correct because the solution should be all positive, so let's fix this. \\\\\n",
        "We also have oscillations!! \\\\\n",
        "\n",
        "Therefore we wnat to implement the LUMPING-MASS MATRIX method to get a more accurate solution. \\\\"
      ]
    },
    {
      "cell_type": "code",
      "execution_count": null,
      "metadata": {
        "id": "YZDdnVgGe6qV"
      },
      "outputs": [],
      "source": [
        "# Assemble of the Mass matrix:\n",
        "M = assemble(u*v*dx).M.values"
      ]
    },
    {
      "cell_type": "markdown",
      "metadata": {
        "id": "ocsW9X0WGoY_"
      },
      "source": [
        "Now to built the Lumped mass matrix remember from the theory that there are two methods: \\\\\n",
        "*  Summing-up the rows of the mass matrix and place the value on the main diagonal\n",
        "*  Implementing a quadrature formula\n",
        "\n",
        "\n",
        "Let's see those two different techniques:"
      ]
    },
    {
      "cell_type": "code",
      "execution_count": null,
      "metadata": {
        "id": "zIRYFRf9HCNB"
      },
      "outputs": [],
      "source": [
        "# By hand, summing over the rows\n",
        "# M_lump_diag = np.sum(M.M.values, axis=1) ?????????\n",
        "\n",
        "\n",
        "# With a suitable choice of quadrature rule\n",
        "quad_rule = finat.quadrature.make_quadrature(V.finat_element.cell, 1, \"KMV\")\n",
        "dxlump=dx(scheme=quad_rule) # Lumped integration rule\n",
        "\n",
        "m_lump = u*v*dxlump"
      ]
    },
    {
      "cell_type": "markdown",
      "metadata": {
        "id": "hQiTPz97jXRH"
      },
      "source": [
        "So, now let's use the quadrature formula and in particular **dxlump** insead of dx to solve our problem:"
      ]
    },
    {
      "cell_type": "code",
      "execution_count": null,
      "metadata": {
        "colab": {
          "base_uri": "https://localhost:8080/",
          "height": 507
        },
        "id": "bQg4fUIZjeib",
        "outputId": "51e93fe0-3552-432b-c916-5d23626440cb"
      },
      "outputs": [
        {
          "name": "stderr",
          "output_type": "stream",
          "text": [
            "/usr/local/lib/python3.10/dist-packages/ufl/utils/sorting.py:84: UserWarning: Applying str() to a metadata value of type QuadratureRule, don't know if this is safe.\n",
            "  warnings.warn(f\"Applying str() to a metadata value of type {type(value).__name__}, \"\n"
          ]
        },
        {
          "data": {
            "text/plain": [
              "<matplotlib.colorbar.Colorbar at 0x7d8a06c6e8f0>"
            ]
          },
          "execution_count": 48,
          "metadata": {},
          "output_type": "execute_result"
        },
        {
          "data": {
            "image/png": "[encoded data removed]",
            "text/plain": [
              "<Figure size 640x480 with 2 Axes>"
            ]
          },
          "metadata": {},
          "output_type": "display_data"
        }
      ],
      "source": [
        "# Set data:\n",
        "mu = Constant(1e-4)\n",
        "sigma = Constant(1.)\n",
        "f = Constant(0.)\n",
        "\n",
        "\n",
        "# Boundary conditions:\n",
        "bc0 = DirichletBC(V, Constant(0.), (1, 3))\n",
        "bc1 = DirichletBC(V, Constant(1.), (2, 4))\n",
        "\n",
        "\n",
        "# Define the weak formulation:\n",
        "u = TrialFunction(V)\n",
        "v = TestFunction(V)\n",
        "\n",
        "a = mu*dot(grad(u), grad(v)) * dx + sigma * u * v * dxlump\n",
        "L = f * v * dx\n",
        "\n",
        "# Solve the problem:\n",
        "u_h = Function(V)\n",
        "solve(a==L, u_h, bcs=(bc0, bc1))\n",
        "\n",
        "# Plot the results:\n",
        "fug, ax = plt.subplots()\n",
        "q = fdplt.tricontourf(u_h, axes=ax)\n",
        "plt.colorbar(q)"
      ]
    },
    {
      "cell_type": "markdown",
      "metadata": {
        "id": "SCywpq_1js5F"
      },
      "source": [
        "So we notice that we've not spore oscillations because we do not have any results below zero. \\\\\n",
        "Obviusly to have a better result we have to impose a more fine mesh."
      ]
    },
    {
      "cell_type": "markdown",
      "metadata": {
        "id": "wvdaLAtBKDDk"
      },
      "source": [
        "## EXERCISE 2\n",
        "\n",
        "Consider the PDE problem \\\\\n",
        "\n",
        "$$\n",
        "\\begin{cases}\n",
        "-∆u + 2u = f \\quad \\quad \\text{in} \\, \\, Ω = (0, 1)^2 \\\\\n",
        "u = 0 \\quad \\quad \\quad \\quad \\quad \\text{on} \\, ∂Ω\n",
        "\\end{cases}\n",
        "$$ \\\\\n",
        "\n",
        "(a) Write the weak formulation of the problem. \\\\\n",
        "(b) Study the well posedness (existence and uniqueness of a solution) of the (weak) problem. \\\\\n",
        "(c) Consider the exact solution $u(x, y) = sin(πx) sin(πy)$. Compute the corresponding right-hand side $f$. \\\\\n",
        "(d) Solve the problem using Firedrake and plot the solution. \\\\\n",
        "(e) What is the expected convergence rate in the $H^1$ norm? Verify it numerically \\\\"
      ]
    },
    {
      "cell_type": "markdown",
      "metadata": {
        "id": "xbvK5bbmLARu"
      },
      "source": [
        "## EXERCISE 3\n",
        "\n",
        "Consider the advection-diffusion-reaction problem \\\\\n",
        "\n",
        "$$\n",
        "\\begin{cases}\n",
        "−∆u + \\boldsymbol{∇} · (\\boldsymbol{b}u) + u = 0 \\quad \\quad \\text{in} \\, \\, Ω = (0, 1)^2 \\\\\n",
        "u = \\phi \\ quad \\quad \\quad \\quad \\quad \\text{on} \\, ∂Ω\n",
        "\\end{cases}\n",
        "$$ \\\\\n",
        "\n",
        "where $\\boldsymbol{b} = [1000, 1000]^T$ and: \\\\\n",
        "\n",
        "$$\n",
        "\\phi = \\begin{cases}\n",
        "1 \\quad \\text{for } \\, \\, x = 0, \\, \\text{and } \\, 0 < y < 1 \\\\\n",
        "1 \\quad \\text{for } \\, \\, y = 0, \\, \\text{and } \\, 0 < x < 1 \\\\\n",
        "0 \\quad \\text{elsewhere }\n",
        "\\end{cases}\n",
        "$$ \\\\\n",
        "\n",
        "(a) Is it possible to give an estimate about the maximum value of cell diameter h that can be used when solving the problem with the classical Galerkin scheme? \\\\\n",
        "(b) Write the weak formulation of the problem. \\\\\n",
        "(c) Solve the problem by implementing the SUPG method in Firedrake."
      ]
    }
  ],
  "metadata": {
    "colab": {
      "provenance": []
    },
    "kernelspec": {
      "display_name": "Python 3",
      "name": "python3"
    },
    "language_info": {
      "name": "python"
    }
  },
  "nbformat": 4,
  "nbformat_minor": 0
}
