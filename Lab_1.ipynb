{
  "nbformat": 4,
  "nbformat_minor": 0,
  "metadata": {
    "colab": {
      "provenance": [],
      "collapsed_sections": [
        "f_lqSFvnK9T5",
        "hAqb0l7jLJ-4",
        "4FY3bVtILIMV",
        "4tUetmxaYfsT",
        "XS1upQyJXCTt",
        "ieb7jA8RJ0Hg",
        "CP6L9jVAMPb1",
        "8xzH6KquQhDH",
        "Htz9xUzXbozq",
        "Y44lxlGoj9M3",
        "kjm16cCPl3Ia",
        "bVuetyF5Gn6R"
      ]
    },
    "kernelspec": {
      "name": "python3",
      "display_name": "Python 3"
    },
    "language_info": {
      "name": "python"
    }
  },
  "cells": [
    {
      "cell_type": "markdown",
      "source": [
        "# LAB 1\n",
        "In this lab, we start from the 1D Poisson problem, and solve it by **FINITE DIFFERENCES**."
      ],
      "metadata": {
        "id": "30MRuTD0Ll6c"
      }
    },
    {
      "cell_type": "markdown",
      "source": [
        "## FINITE DIFFERENCE approach:"
      ],
      "metadata": {
        "id": "f_lqSFvnK9T5"
      }
    },
    {
      "cell_type": "markdown",
      "source": [
        "With this method we evaluate the solution $u$ only at the grid points, while with FINITE ELEMENTS we integrate along two nodes, so the solution is con the entire domain. \\\\\n",
        "\n",
        "\\\\\n",
        "\n",
        "Given the generic elliptic problem in 1D: \\\\\n",
        "\n",
        "\\begin{align}\n",
        "    \\begin{cases}\n",
        "        -u''=g(x) \\\\\n",
        "        u(0) = u(L) = 0 \\\\\n",
        "    \\end{cases}\n",
        "\\end{align}\n",
        "\n",
        "We want to get an approximate solution using a $2^{nd}$ order FINITE DIFFERENCE approximation. \\\\\n",
        "\n",
        "\\\\\n",
        "\n",
        "\\\\\n",
        "\n",
        "We can write the problem using FD by approximating the second derivative of the solution as follow: \\\\\n",
        "\n",
        "$u''_{i,FD} = a*u_i + b*u_{i-1} + c*u_{i+1}$ \\\\\n",
        "\n",
        "\\\\\n",
        "\n",
        "$\\rightarrow$ So using a Taiylor serie expansion up to the $2^{nd}$ order, let's write the solution at point $x_i$, $x_{i-1}$ and $x_{i+1}$: \\\\\n",
        "\n",
        "\n",
        "*   $u_i = u(x_i)$ \\\\\n",
        "*   $u_{i-1}= u(x_{i-1})-h*u'(x_i)+\\frac{h^2}{2}*u''(x_i)+o(h^3)$ \\\\\n",
        "*   $u_{i+1}= u(x_{i+1})+h*u'(x_i)+\\frac{h^2}{2}*u''(x_i)+o(h^3)$ \\\\\n",
        "\n",
        "\\\\\n",
        "Therefore our FD approximation becomes: \\\\\n",
        "\n",
        "$\\Rightarrow u''_{i,FD} = a*u_i + b*(u_i - h*u'_i + \\frac{h^2}{2}*u''_i) + c*(u_i + h*u'_i + \\frac{h^2}{2}*u''_i) +o(h^3)$ \\\\\n",
        "\n",
        "\\\\\n",
        "\n",
        "We now need to collect the terms such to impose that $u_i = u_i' = 0$ and $u_i'' = 1$ : \\\\\n",
        "\n",
        "\\begin{align}\n",
        "    \\begin{cases}\n",
        "        a+b+c = 0 \\\\\n",
        "        -b + c = 0 \\\\\n",
        "        h^2/2*(b+c) = 1 \\\\\n",
        "    \\end{cases}\n",
        "    ⇒\\begin{cases}\n",
        "        a = -\\frac{2}{h^2} \\\\\n",
        "        b = \\frac{1}{h^2} \\\\\n",
        "        c = \\frac{1}{h^2} \\\\\n",
        "    \\end{cases}\n",
        "\\end{align}\n",
        "\n",
        "\\\\\n",
        "\n",
        "So our approximation becomes: \\\\\n",
        "\n",
        "$⇒u''_{i,FD} = \\frac{1}{h^2}*u_{i-1} - \\frac{2}{h^2}*u_i + \\frac{1}{h^2}*u_{i+1}$ \\\\\n",
        "\n",
        "Therefore the problem becomes: \\\\\n",
        "\n",
        "\\begin{align}\n",
        "    \\begin{cases}\n",
        "        -\\frac{u_{i+1} - 2 u_i + u_{i-1}}{h^2} = g(x_i) \\\\\n",
        "        u(0) = u(L) = 0 \\\\\n",
        "    \\end{cases}\n",
        "\\end{align}\n",
        "\n",
        "So in general we can define the problem in matrial form as: $Au = g$, where: \\\\\n",
        "\n",
        "\\begin{equation}\n",
        "A = \\frac{1}{h^2}\\begin{bmatrix}\n",
        "2 &  -1 &    &        &                            \\newline\n",
        "-1  & 2 &  -1 &        &                            \\newline\n",
        "   &              \\ddots  & \\ddots & \\ddots  &            \\newline\n",
        "   &                       & -1       & 2 & -1  \\newline\n",
        "   &                       &         & -1  & 2 \\newline\n",
        "\\end{bmatrix},\n",
        "u = \\begin{bmatrix}\n",
        "u_1 \\newline\n",
        ". \\newline\n",
        ". \\newline\n",
        ".  \\newline\n",
        "u_{N-2} \\newline\n",
        "\\end{bmatrix},\n",
        "g = \\begin{bmatrix}\n",
        "g(x_1) \\newline\n",
        ". \\newline\n",
        ". \\newline\n",
        ".  \\newline\n",
        "g(x_{N-2}) \\newline\n",
        "\\end{bmatrix}\n",
        "\\end{equation}\n",
        "\n",
        "\\\\\n",
        "\n",
        "This constitute actually our system, we can write it with matricies: \\\\\n",
        "\n",
        "The convergence results says that: \\\\\n",
        "\n",
        "If $g\\in C^2(\\Omega)$, then $||u-u_{ex}|| = max|u_i-u_{ex}(x_i)| \\leq C*h^2*||g''||_\\infty$"
      ],
      "metadata": {
        "id": "IfV4YtDyhjMS"
      }
    },
    {
      "cell_type": "markdown",
      "source": [
        "## EXERCISE 1:\n",
        "\n",
        "Consider problem: \\\\\n",
        "\n",
        "\\begin{align}\n",
        "  \\begin{cases}\n",
        "      -u^{\\prime\\prime} = g(x), \\quad \\textrm{ in } \\Omega=(0,2\\pi) \\newline\n",
        "      u(0)=u(2\\pi)=0 \\newline\n",
        "  \\end{cases}\n",
        "\\end{align} \\\\\n",
        "\n",
        "with $g(x) = sin(x)$ and exact solution $u(x) = sin(x)$. \\\\\n",
        "\n",
        "a) Write a function to solve the problem using a seocodn order accurate finite difference scheme\n",
        "\n",
        "b) Verify the order of convergence numerically"
      ],
      "metadata": {
        "id": "hAqb0l7jLJ-4"
      }
    },
    {
      "cell_type": "markdown",
      "source": [
        "### a) Write a function to solve the problem using a seocodn order accurate finite difference scheme"
      ],
      "metadata": {
        "id": "4FY3bVtILIMV"
      }
    },
    {
      "cell_type": "markdown",
      "source": [
        "We'll use a grid of $N$ points with $x_0=0, x_{N-1}=2\\pi$ and $h=\\frac{2\\pi}{N-1}$. \\\\\n",
        "\n",
        "\\\\\n",
        "\n",
        "Procedure: \\\\\n",
        "\n",
        "In each point of the grid the equation can be discretized as:\n",
        "\n",
        "$$-\\frac{u_{i+1} - 2 u_i + u_{i-1}}{h^2} = g_i,$$\n",
        "\n",
        "where $g_i=g(x_i)$.\n",
        "\n",
        "We keep the boundary points fixed, so we only need to solve for the $N-2$ interior points.  Near the boundaries, our difference is:\n",
        "$$-u_2 + 2 u_1 = h^2 g_1$$\n",
        "\n",
        "and\n",
        "\n",
        "$$2u_{N-2} - u_{N-3} = h^2 g_{N-2}.$$\n",
        "\n",
        "We can write the system of equations for solving for the $N-2$ interior points as:\n",
        "\n",
        "\\begin{equation}\n",
        "A = \\begin{bmatrix}\n",
        "2 &  -1 &    &        &                            \\newline\n",
        "-1  & 2 &  -1 &        &                            \\newline\n",
        "   &                & \\ddots & \\ddots  & \\ddots           \\newline\n",
        "   &                       & -1       & 2 & -1  \\newline\n",
        "   &                       &         & -1  & 2 \\newline\n",
        "\\end{bmatrix}\n",
        "\\end{equation}\n",
        "\n",
        "\\begin{equation}\n",
        "{\\bf u} = \\begin{bmatrix}\n",
        "u_\\mathrm{1} \\\\\n",
        "u_\\mathrm{2} \\\\\n",
        "\\vdots \\\\\n",
        "u_\\mathrm{N-2} \\\\\n",
        "\\end{bmatrix}, \\quad\n",
        "{\\bf g} = h^2 \\begin{bmatrix}\n",
        "g_\\mathrm{1} \\\\\n",
        "g_\\mathrm{2} \\\\\n",
        "\\vdots \\\\\n",
        "g_\\mathrm{N-2} \\\\\n",
        "\\end{bmatrix}\n",
        "\\end{equation}\n",
        "\n",
        "To find the solution, we solve $A {\\bf u} = {\\bf g}$."
      ],
      "metadata": {
        "id": "4WxRGUn7hq-6"
      }
    },
    {
      "cell_type": "code",
      "source": [
        "import numpy as np\n",
        "import matplotlib.pyplot as plt"
      ],
      "metadata": {
        "id": "Qwcn9w8ub0H9"
      },
      "execution_count": null,
      "outputs": []
    },
    {
      "cell_type": "code",
      "source": [
        "def  solve_poisson_FD(a, b, N, g):\n",
        "  '''\n",
        "  Solves Poissons eq. on [a, b], with N grid points and forcing term g(x) using\n",
        "  Finite Difference method for 2nd order accurancy\n",
        "  '''\n",
        "\n",
        "  # Create the mesh:\n",
        "  x = np.linspace(a,b,N)\n",
        "  h = x[1] - x[0]\n",
        "\n",
        "  # Create the matrix\n",
        "  A = 2*np.eye(N-2) - np.eye(N-2, k=-1) - np.eye(N-2, k=1)\n",
        "  f = h**2 * g(x[1:-1])\n",
        "  u = np.linalg.solve(A, f) # To solve the system in th metricial form A*u = f\n",
        "\n",
        "  return x, u"
      ],
      "metadata": {
        "id": "I0Z-Rz5SKLSG"
      },
      "execution_count": null,
      "outputs": []
    },
    {
      "cell_type": "code",
      "source": [
        "## Data:\n",
        "\n",
        "# Extrema of the domain\n",
        "a = 0\n",
        "b = 2*np.pi\n",
        "\n",
        "# Number of nodes\n",
        "N = 10\n",
        "\n",
        "# Forcing term (r.h.s.)\n",
        "g = lambda x: np.sin(x) # It is like in MATLAB f = @function\n",
        "                        # lambda (it's a key word) variables: funciton"
      ],
      "metadata": {
        "id": "2B43C3DcSrTG"
      },
      "execution_count": null,
      "outputs": []
    },
    {
      "cell_type": "code",
      "source": [
        "# Get the approximated solution with finite elements method\n",
        "x, u_h = solve_poisson_FD(a, b, N, g)"
      ],
      "metadata": {
        "id": "JjDtqqwZW3YO"
      },
      "execution_count": null,
      "outputs": []
    },
    {
      "cell_type": "code",
      "source": [
        "# Define the exact solution (the problem tell you that)\n",
        "u_ex = lambda x: np.sin(x)\n",
        "x_fine = np.linspace(a, b, 500) # Discretization of the domain for the plot of the exact solution\n"
      ],
      "metadata": {
        "id": "VH_7XzMTTJ5b"
      },
      "execution_count": null,
      "outputs": []
    },
    {
      "cell_type": "code",
      "source": [
        "# Plot the real and approximated solution\n",
        "fig, ax = plt.subplots()\n",
        "ax.plot(x[1:-1], u_h, 'o', label='Approximated solution')\n",
        "ax.plot(x_fine, u_ex(x_fine), '-', label='Exact solution')\n",
        "ax.legend()"
      ],
      "metadata": {
        "colab": {
          "base_uri": "https://localhost:8080/",
          "height": 447
        },
        "id": "tccc4a9kXDbp",
        "outputId": "8a179d54-bea1-45bb-9c8d-4a6c4d0be14c"
      },
      "execution_count": null,
      "outputs": [
        {
          "output_type": "execute_result",
          "data": {
            "text/plain": [
              "<matplotlib.legend.Legend at 0x78a760becd30>"
            ]
          },
          "metadata": {},
          "execution_count": 84
        },
        {
          "output_type": "display_data",
          "data": {
            "text/plain": [
              "<Figure size 640x480 with 1 Axes>"
            ],
            "image/png": "[encoded data removed]"
          },
          "metadata": {}
        }
      ]
    },
    {
      "cell_type": "markdown",
      "source": [
        "### b) Verify the order of convergence numerically\n",
        "\n"
      ],
      "metadata": {
        "id": "4tUetmxaYfsT"
      }
    },
    {
      "cell_type": "markdown",
      "source": [
        "To verify the order of convergence numerically you have to check the result reducing the spacing of your interval (so increasing the number of intervals called N). In this way you should get a better and better result the more your mesh is fine, and plotting the error behaviour you can check the slope of the error curve as N changes to get the order of convergence. \\\\\n",
        "\n",
        "So you first define a set of intervals, and then you iterate the computation of your approximate solution increasing the number of intervals N."
      ],
      "metadata": {
        "id": "gvzr8GdQiBkf"
      }
    },
    {
      "cell_type": "code",
      "source": [
        "# Convergence test:\n",
        "Nvec = np.array([10, 20, 40, 80]) # Let's define a set of intervals\n",
        "\n",
        "errvec = [] # Initialize the error vector\n",
        "\n",
        "for N in Nvec: # You're iterating in the vector (or list) Nvec, so: 10, 20, ...\n",
        "   x, u = solve_poisson_FD(a, b, N, g)\n",
        "\n",
        "   # Compute the error\n",
        "   err = np.max(np.abs(u - u_ex(x[1:-1])))\n",
        "   print('N = ', N, ', err = ', err)\n",
        "   errvec.append(err)"
      ],
      "metadata": {
        "colab": {
          "base_uri": "https://localhost:8080/"
        },
        "id": "2jizoibgUuD1",
        "outputId": "b3f6df29-2817-47d9-f8f9-96cd956b4682"
      },
      "execution_count": null,
      "outputs": [
        {
          "output_type": "stream",
          "name": "stdout",
          "text": [
            "N =  10 , err =  0.04099253387248303\n",
            "N =  20 , err =  0.00913195837613201\n",
            "N =  40 , err =  0.0021640174225235898\n",
            "N =  80 , err =  0.0005272005141714331\n"
          ]
        }
      ]
    },
    {
      "cell_type": "code",
      "source": [
        "# Plot the errors:\n",
        "fig, ax = plt.subplots()\n",
        "# We use a loglog scale to see the result propetly\n",
        "ax.loglog(Nvec, errvec, 'o', label='Errors')\n",
        "ax.loglog(Nvec, 1/np.array(Nvec), '-',label='First order behaviour')\n",
        "ax.loglog(Nvec, 10/np.array(Nvec)**2, '-', label='Second order behaviour')\n",
        "ax.legend()"
      ],
      "metadata": {
        "colab": {
          "base_uri": "https://localhost:8080/"
        },
        "id": "l2-2UZKeZiwS",
        "outputId": "ee9e5779-e408-4290-965b-4941c258be87"
      },
      "execution_count": null,
      "outputs": [
        {
          "output_type": "execute_result",
          "data": {
            "text/plain": [
              "<matplotlib.legend.Legend at 0x78a760a45930>"
            ]
          },
          "metadata": {},
          "execution_count": 86
        },
        {
          "output_type": "display_data",
          "data": {
            "text/plain": [
              "<Figure size 640x480 with 1 Axes>"
            ],
            "image/png": "[encoded data removed]"
          },
          "metadata": {}
        }
      ]
    },
    {
      "cell_type": "markdown",
      "source": [
        "We can notice that increasing the number we get a lower error!! \\\\\n",
        "We can see that the order of convergence is 2. \\\\\n",
        "\n",
        "END Of the EXERCISE 1\n",
        "\n",
        "--------------------------------------------------------------------------------"
      ],
      "metadata": {
        "id": "KI7mGgEtWjoI"
      }
    },
    {
      "cell_type": "markdown",
      "source": [
        "### NOTE (related to Ex.1):"
      ],
      "metadata": {
        "id": "XS1upQyJXCTt"
      }
    },
    {
      "cell_type": "markdown",
      "source": [
        "Our matrix A has a DIAGONAL-SHAPE, therefore we have lot of zeros (in this case we have $3N-2$ zero elements). So for this reason we are computing many unnecessary computations and we use too much memory in the computation of $Au=g$. So for this reason we can try to save the matrix in a sparse form and simplify computational cost. \\\\\n",
        "\n",
        "\\\\\n",
        "\n",
        "To do this we can use an iterative method.\n",
        "\n",
        "\\\\\n",
        "\n",
        "To store a matrix in a NON-stored form we can use 'SciPy' library using the functions: \\\\\n",
        "\n",
        "\n",
        "*   coo_array((data, (i,j)), [shape=(M,N)])\n",
        "*   scipy.sparse.diags()\n",
        "*   scipy.sparse.eye()"
      ],
      "metadata": {
        "id": "jWppQC7BiKVH"
      }
    },
    {
      "cell_type": "code",
      "source": [
        "from scipy.sparse import eye\n",
        "\n",
        "N = 100\n",
        "\n",
        "A_sparse = (2*eye(N-2) - eye(N-2, k=1) - eye(N-2, k=-1)).tocoo() # Sparse form of the previous matrix\n",
        "A_dense = 2*np.eye(N-2) - np.eye(N-2, k=1) - np.eye(N-2, k=1)\n",
        "\n",
        "sparse_size = A_sparse.data.nbytes + A_sparse.row.nbytes + A_sparse.col.nbytes\n",
        "dense_size = A_dense.nbytes\n",
        "\n",
        "print(sparse_size, dense_size) # Look what's the difference!!!"
      ],
      "metadata": {
        "colab": {
          "base_uri": "https://localhost:8080/"
        },
        "id": "9IQFExGvYt-w",
        "outputId": "8ad74c51-446f-4e95-b11f-60d66bbfb032"
      },
      "execution_count": null,
      "outputs": [
        {
          "output_type": "stream",
          "name": "stdout",
          "text": [
            "4672 76832\n"
          ]
        }
      ]
    },
    {
      "cell_type": "code",
      "source": [
        "from scipy.sparse.linalg import cg\n",
        "from time import time\n",
        "\n",
        "f = np.ones(N-2)\n",
        "\n",
        "# Time for the SPARSE system\n",
        "t0 = time()\n",
        "x_sparse = cg(A_sparse, f)\n",
        "t_sparse = time() - t0\n",
        "\n",
        "# Time for the DENSE system\n",
        "t0 = time()\n",
        "x_dense = np.linalg.solve(A_dense, f)\n",
        "t_dense = time() - t0\n",
        "\n",
        "print(t_sparse, t_dense)\n"
      ],
      "metadata": {
        "colab": {
          "base_uri": "https://localhost:8080/"
        },
        "id": "wCkAXpucaxAq",
        "outputId": "31a79e3b-af08-4669-fe67-9f7637726174"
      },
      "execution_count": null,
      "outputs": [
        {
          "output_type": "stream",
          "name": "stdout",
          "text": [
            "0.0036373138427734375 0.0004322528839111328\n"
          ]
        }
      ]
    },
    {
      "cell_type": "markdown",
      "source": [
        "## EXERCISE 2:\n",
        "\n",
        "Consider the problem \\\\\n",
        "\n",
        "\\begin{align}\n",
        "    \\begin{cases}\n",
        "        -u''= f , \\quad \\textrm{ in } (0,1)\\\\\n",
        "        u(0) = u(1) = 0 \\\\\n",
        "    \\end{cases}\n",
        "\\end{align} \\\\\n",
        "with $f(x) = 1$ \\\\\n",
        "\n",
        "a) Compute the exact solution \\\\\n",
        "b) Solve the problem using finite differences and compute the error. What do you observe?"
      ],
      "metadata": {
        "id": "ieb7jA8RJ0Hg"
      }
    },
    {
      "cell_type": "markdown",
      "source": [
        "### a) Compute the exact solution"
      ],
      "metadata": {
        "id": "CP6L9jVAMPb1"
      }
    },
    {
      "cell_type": "markdown",
      "source": [
        "In this case the problem becomes easier and you can't use the characterisrtic equation because the equation is not homegeneous (since $f(x) = 1$), so we just need to integrate: \\\\\n",
        "\n",
        "\\\\\n",
        "\n",
        "$-\\int u''\\, dx = \\int 1, dx \\Rightarrow \\int u'\\,dx = \\int -x + c_1\\, dx \\Rightarrow u = -\\frac{x^2}{2} +c_1x +c_2 $ \\\\\n",
        "\n",
        "\\\\\n",
        "\n",
        "Now imposing the bounddary conditions $u(0) = u(1) = 0$, you get that: \\\\\n",
        "\n",
        "$c_2 = 0$ and $c_1 = \\frac{1}{2}$ \\\\\n",
        "\n",
        "\\\\\n",
        "\n",
        "So at the end the exact solution is: \\\\\n",
        "\n",
        "$u(x) = \\frac{1}{2}(x-x^2)$"
      ],
      "metadata": {
        "id": "e1a5zx3PhWXD"
      }
    },
    {
      "cell_type": "markdown",
      "source": [
        "### b) Solve the problem using finite differences and compute the error. What do you observe?"
      ],
      "metadata": {
        "id": "8xzH6KquQhDH"
      }
    },
    {
      "cell_type": "markdown",
      "source": [
        "Here we have a small problem, we have just to modify an element on the function to solve Poisson equation using FD because since $f=1$ if you do g(x[1:-1]) it returns just 1, so you need to multiply by a vector of ones"
      ],
      "metadata": {
        "id": "KVYkLst4ihok"
      }
    },
    {
      "cell_type": "code",
      "source": [
        "def  solve_poisson_FD_reviewed(a, b, N, g):\n",
        "  '''\n",
        "  Solves Poissons eq. on (a,b), with N grid points and forcing term g, here\n",
        "  is reviewed because g(x[1:-1]) returns just 1\n",
        "  '''\n",
        "\n",
        "  # Create the grid:\n",
        "  x = np.linspace(a,b,N)\n",
        "  h = x[1] - x[0]\n",
        "\n",
        "  # Create the matrix\n",
        "  A = 2*np.eye(N-2) - np.eye(N-2, k=-1) - np.eye(N-2, k=1)\n",
        "  f = h**2 * np.ones(N-2)\n",
        "  u = np.linalg.solve(A, f) # To solve the system in th metricial form A*u = f\n",
        "\n",
        "  return x, u"
      ],
      "metadata": {
        "id": "kgF9e1zzTsf9"
      },
      "execution_count": null,
      "outputs": []
    },
    {
      "cell_type": "code",
      "source": [
        "## Data:\n",
        "\n",
        "# Extrema of the domain\n",
        "a = 0\n",
        "b = 2*np.pi\n",
        "\n",
        "# Number of nodes\n",
        "N = 10\n",
        "\n",
        "# Forcing term (r.h.s)\n",
        "f = lambda x: 1\n"
      ],
      "metadata": {
        "id": "wJRBV5pUKN5Z"
      },
      "execution_count": null,
      "outputs": []
    },
    {
      "cell_type": "code",
      "source": [
        "# Solve the approximate solution using finite method\n",
        "x, u_h = solve_poisson_FD_reviewed(a, b, N, f)"
      ],
      "metadata": {
        "id": "Le1XME-pidBK"
      },
      "execution_count": null,
      "outputs": []
    },
    {
      "cell_type": "code",
      "source": [
        "# Define the exact solutio (computed analitically before)\n",
        "u_ex = lambda x: 0.5*(x-x**2)\n",
        "x_fine = np.linspace(a, b, 500)"
      ],
      "metadata": {
        "id": "9bGXaUqmie7y"
      },
      "execution_count": null,
      "outputs": []
    },
    {
      "cell_type": "code",
      "source": [
        "# Plot real VS approximate solution:\n",
        "fig, ax = plt.subplots()\n",
        "ax.plot(x[1:-1], u_h, 'o', label='Approximated solution')\n",
        "ax.plot(x_fine, u_ex(x_fine), '-', label='Exact solution')\n",
        "ax.legend()"
      ],
      "metadata": {
        "colab": {
          "base_uri": "https://localhost:8080/"
        },
        "id": "JZT4PMy5aqoR",
        "outputId": "23ce3df0-0f92-43d5-b825-9c8ff6867caf"
      },
      "execution_count": null,
      "outputs": [
        {
          "output_type": "execute_result",
          "data": {
            "text/plain": [
              "<matplotlib.legend.Legend at 0x78a760f17b20>"
            ]
          },
          "metadata": {},
          "execution_count": 68
        },
        {
          "output_type": "display_data",
          "data": {
            "text/plain": [
              "<Figure size 640x480 with 1 Axes>"
            ],
            "image/png": "[encoded data removed]"
          },
          "metadata": {}
        }
      ]
    },
    {
      "cell_type": "code",
      "source": [
        "# Compute the error:\n",
        "err = np.max(np.abs(u_h - u_ex(x[1:-1])))\n",
        "print('N = ', N, ', err = ', err)"
      ],
      "metadata": {
        "colab": {
          "base_uri": "https://localhost:8080/"
        },
        "id": "gGMp6g7pWDf-",
        "outputId": "faec57f8-16fe-4f98-8565-74c7843cab52"
      },
      "execution_count": null,
      "outputs": [
        {
          "output_type": "stream",
          "name": "stdout",
          "text": [
            "N =  10 , err =  14.753436576523486\n"
          ]
        }
      ]
    },
    {
      "cell_type": "markdown",
      "source": [
        "I observe that the error is basically null and the solution is almost exact, at least much more than the previous case."
      ],
      "metadata": {
        "id": "bSmmLfvKjqSD"
      }
    },
    {
      "cell_type": "markdown",
      "source": [
        "## EXERCISE 3:\n",
        "\n",
        "What is the dimension N of the largest square matrix of floats in dense formad you could build considering your computer RAM? \\\\\n",
        "What is the dimension N of the largest finite difference matrix you could built in the COO format?"
      ],
      "metadata": {
        "id": "Htz9xUzXbozq"
      }
    },
    {
      "cell_type": "markdown",
      "source": [
        "### ANSWERS:"
      ],
      "metadata": {
        "id": "Y44lxlGoj9M3"
      }
    },
    {
      "cell_type": "markdown",
      "source": [
        "1) My computer RAM is 16GB which corresponds to $16*1024^3$ bytes, so $17.179.869.184$ bytes. To understand the largest sqare matrix I can create we should consider the memory needed to store the matrix. \\\\\n",
        "Each float number of the matrix typically occupy 4 bytes (32 bit). So finally to ge the solution we must evaluate: \\\\\n",
        "\n",
        "$Memory_{RAM_{MAX}} = N^2*Memory_{float} ⇒ N \\leq \\sqrt{\\frac{Memory_{RAM_{MAX}}}{Memory_{float}}} ⇒ N \\leq \\sqrt{\\frac{17.179.869.184}{4}}$ \\\\\n",
        "\n",
        "So the result is $N \\leq 65536$. \\\\\n",
        "\n",
        "\\\\\n",
        "\n",
        "2) A finite difference matrix is typically a sparse matrix that represents a discretization of a differential operator. \\\\\n",
        "A COO format (Coordinate list) is a representation method for sparse matrix. In this format the matrix is represented with a list of tuple that represent the coordinates of the NON-zero elements and their values each tuple contains:\n",
        "\n",
        "\n",
        "*   Row coordinate\n",
        "*   Column coordinate\n",
        "*   value of the NON-zero element\n",
        "\n",
        "Example:\n",
        "\n",
        "\\begin{equation}\n",
        "\\begin{bmatrix}\n",
        "1 & 0 & 0 \\newline\n",
        "0 & 0 & 2 \\newline\n",
        "3 & 4 & 0 \\newline\n",
        "\\end{bmatrix}\n",
        "\\end{equation}\n",
        "\n",
        "the COO representation is:\n",
        "\\begin{equation}\n",
        "row_indices = \\begin{bmatrix}\n",
        "0 & 1 & 2 & 2 \\newline\n",
        "\\end{bmatrix}\n",
        "\\end{equation}\n",
        "\n",
        "\\begin{equation}\n",
        "column_indices = \\begin{bmatrix}\n",
        "0 & 2 & 0 & 1 \\newline\n",
        "\\end{bmatrix}\n",
        "\\end{equation}\n",
        "\n",
        "\\begin{equation}\n",
        "values = \\begin{bmatrix}\n",
        "1 & 2 & 3 & 4 \\newline\n",
        "\\end{bmatrix}\n",
        "\\end{equation}\n",
        "\n",
        "\n",
        "So in this case we can compute the maximum N for a 16GB of RAM as: \\\\\n",
        "\n",
        "$Memory_{RAM_{MAX}} = 3*nnz$, where $nnz$ is the number of NON-zero elements of hte matrix. \\\\\n",
        "In general we have tha for an $N^2$ dimenion matrix you have that $nnz$ is the same order of $N$, so we can assume $nnz≈N$ and get that:\n",
        "\n",
        "$N \\leq \\frac{Memory_{RAM_{MAX}}}{3} ⇒ N ⪅ 1.879.048.192$\n",
        "\n"
      ],
      "metadata": {
        "id": "VYG1xfyYpu7R"
      }
    },
    {
      "cell_type": "markdown",
      "source": [
        "## EXERCISE 4:\n",
        "\n",
        "Consider the problem: \\\\\n",
        "\n",
        "\\begin{align}\n",
        "  \\begin{cases}\n",
        "      -u^{\\prime\\prime} = g(x), \\quad \\textrm{ in } \\Omega=(0,\\frac{3}{2}\\pi) \\newline\n",
        "      u'(0)=u(\\frac{3}{2}\\pi)=0 \\newline\n",
        "  \\end{cases}\n",
        "\\end{align} \\\\\n",
        "\n",
        "with $g(x) = cos(x)$ and the exact solution is $ u(x) = cos(x)$. \\\\\n",
        "\n",
        "a) Solve the problem using finite differences. For the one-sided approximation of $u'$ at the origin, use the second order accurate formula: \\\\\n",
        "$u'(0) = \\frac{-3/2u_0+2u_1-1/2u_2}{Δx}$ \\\\\n",
        "\n",
        "b) Check the convergence rate degrades if a first order accurate formula for $u'(0)$ is used."
      ],
      "metadata": {
        "id": "pTqgWls10nVn"
      }
    },
    {
      "cell_type": "markdown",
      "source": [
        "### a) Solve the problem using finite differences. For the one-sided approximation of $u'$ at the origin, use the second order accurate formula:\n",
        "$u'(0) = \\frac{-3/2u_0+2u_1-1/2u_2}{Δx}$"
      ],
      "metadata": {
        "id": "kjm16cCPl3Ia"
      }
    },
    {
      "cell_type": "markdown",
      "source": [
        "Here we have the same problem as exercise 1, where we can define in general $-\\frac{u_{i+1} - 2 u_i + u_{i-1}}{h^2} = g(x_i)$, with the difference that in this case we also have a condition at the origin which impose the approximation of the derivative there. This lead to the addition of one column and row to the A matrix and an addition of a row to u and g vectors: \\\\\n",
        "\n",
        "\\begin{equation}\n",
        "A = \\begin{bmatrix}\n",
        "-3/2 &  2 & -1/2   &        &                            \\newline\n",
        "-1  & 2 &  -1 &        &                            \\newline\n",
        "   &            \\ddots    & \\ddots & \\ddots  &            \\newline\n",
        "   &                       & -1       & 2 & -1  \\newline\n",
        "   &                       &         & -1  & 2 \\newline\n",
        "\\end{bmatrix}\n",
        "\\end{equation}\n",
        "\n",
        "\\begin{equation}\n",
        "{\\bf u} = \\begin{bmatrix}\n",
        "u_\\mathrm{0} \\\\\n",
        "u_\\mathrm{1} \\\\\n",
        "\\vdots \\\\\n",
        "u_\\mathrm{N-2} \\\\\n",
        "\\end{bmatrix}, \\quad\n",
        "{\\bf g} = h^2 \\begin{bmatrix}\n",
        "0 \\\\\n",
        "g_\\mathrm{1} \\\\\n",
        "\\vdots \\\\\n",
        "g_\\mathrm{N-2} \\\\\n",
        "\\end{bmatrix}\n",
        "\\end{equation}\n"
      ],
      "metadata": {
        "id": "gqL42SFs-IBS"
      }
    },
    {
      "cell_type": "code",
      "source": [
        "def  solve_poisson_FD_ex4(a, b, N, g):\n",
        "  '''\n",
        "  Solves Poissons eq. on (a,b), with N grid points and forcing term g, here\n",
        "  you have to change the index to get from the first element up to the end minus one\n",
        "  '''\n",
        "  # Create the grid:\n",
        "  x = np.linspace(a,b,N)\n",
        "  h = x[1] - x[0]\n",
        "\n",
        "  # Create the matrix\n",
        "  A = 2*np.eye(N-1) - np.eye(N-1, k=-1) - np.eye(N-1, k=1)\n",
        "  A[0,0:3] = np.array([-3/2, 2, -1/2])\n",
        "  f = h**2 * g(x[0:N-1])\n",
        "  f[0] = 0\n",
        "  u = np.linalg.solve(A, f) # To solve the system in th metricial form A*u = f\n",
        "\n",
        "  return x, u"
      ],
      "metadata": {
        "id": "k2k-iZAY1YiE"
      },
      "execution_count": null,
      "outputs": []
    },
    {
      "cell_type": "code",
      "source": [
        "# Data:\n",
        "a = 0\n",
        "b = 3/2*np.pi\n",
        "\n",
        "N = 10\n",
        "\n",
        "g = lambda x: np.cos(x)"
      ],
      "metadata": {
        "id": "fwFt2jI61xaS"
      },
      "execution_count": null,
      "outputs": []
    },
    {
      "cell_type": "code",
      "source": [
        "# Solve the approximate solution:\n",
        "x, u_h = solve_poisson_FD_ex4(a, b, N, g)"
      ],
      "metadata": {
        "id": "lqcZCS15nNDt"
      },
      "execution_count": null,
      "outputs": []
    },
    {
      "cell_type": "code",
      "source": [
        "# Real solution\n",
        "u_ex = lambda x: np.cos(x)\n",
        "x_fine = np.linspace(0, 3/2*np.pi, 500)"
      ],
      "metadata": {
        "id": "autipU3BnPZ_"
      },
      "execution_count": null,
      "outputs": []
    },
    {
      "cell_type": "code",
      "source": [
        "# Plot real VS approximate solution:\n",
        "fig, ax = plt.subplots()\n",
        "ax.plot(x[:N-1], u_h, 'o', label='Approximated solution')\n",
        "ax.plot(x[:N-1], u_ex(x[:N-1]), 'r*', label='Exact solution locally')\n",
        "ax.plot(x_fine, u_ex(x_fine), '-', label='Exact solution globally')\n",
        "ax.legend()"
      ],
      "metadata": {
        "colab": {
          "base_uri": "https://localhost:8080/",
          "height": 447
        },
        "id": "oLCKryDTEqr7",
        "outputId": "a07e0b9d-090f-4574-edf5-a7e898229dd4"
      },
      "execution_count": null,
      "outputs": [
        {
          "output_type": "execute_result",
          "data": {
            "text/plain": [
              "<matplotlib.legend.Legend at 0x78a760c0ee60>"
            ]
          },
          "metadata": {},
          "execution_count": 74
        },
        {
          "output_type": "display_data",
          "data": {
            "text/plain": [
              "<Figure size 640x480 with 1 Axes>"
            ],
            "image/png": "[encoded data removed]"
          },
          "metadata": {}
        }
      ]
    },
    {
      "cell_type": "markdown",
      "source": [
        "### b) Check the convergence rate degrades if a first order accurate formula for  $u′(0)$  is used."
      ],
      "metadata": {
        "id": "bVuetyF5Gn6R"
      }
    },
    {
      "cell_type": "markdown",
      "source": [
        "Same procedure as for the first exercise"
      ],
      "metadata": {
        "id": "uY94zdOToKxB"
      }
    },
    {
      "cell_type": "code",
      "source": [
        "# Convergence test:\n",
        "Nvec = [40, 80, 160, 320] # Let's define a set of intervals\n",
        "\n",
        "errvec = [] # Initialize the error vector\n",
        "\n",
        "for N in Nvec: # You're iterating in the vector (or list) Nvec, so: 10, 20, ...\n",
        "   x, u = solve_poisson_FD_ex4(a, b, N, g)\n",
        "\n",
        "   # Compute the error\n",
        "   err = np.max(np.abs(u[1:] - u_ex(x[1:N-1])))\n",
        "   print('N = ', N, ', err = ', err)\n",
        "   errvec.append(err)"
      ],
      "metadata": {
        "colab": {
          "base_uri": "https://localhost:8080/"
        },
        "id": "L3Law3rVGr5K",
        "outputId": "a4234117-82c8-4fed-8def-ef6faf669b9c"
      },
      "execution_count": null,
      "outputs": [
        {
          "output_type": "stream",
          "name": "stdout",
          "text": [
            "N =  40 , err =  0.0019900384200286503\n",
            "N =  80 , err =  0.000384586338221915\n",
            "N =  160 , err =  8.371453347311153e-05\n",
            "N =  320 , err =  1.9469014242323723e-05\n"
          ]
        }
      ]
    },
    {
      "cell_type": "code",
      "source": [
        "# Plot the errors:\n",
        "fig, ax = plt.subplots()\n",
        "ax.loglog(Nvec, errvec, '*', label='Errors')\n",
        "# Constants are only added for graphical purposes\n",
        "ax.loglog(Nvec, 1/np.array(Nvec), '-',label='First order behaviour')\n",
        "ax.loglog(Nvec, 10/np.array(Nvec)**2, '-', label='Second order behaviour')\n",
        "ax.legend()"
      ],
      "metadata": {
        "colab": {
          "base_uri": "https://localhost:8080/",
          "height": 451
        },
        "id": "bRYmRMitHBh3",
        "outputId": "c6893d70-88cd-40d9-ce50-3fc4c4c3fa11"
      },
      "execution_count": null,
      "outputs": [
        {
          "output_type": "execute_result",
          "data": {
            "text/plain": [
              "<matplotlib.legend.Legend at 0x78a760c0df00>"
            ]
          },
          "metadata": {},
          "execution_count": 76
        },
        {
          "output_type": "display_data",
          "data": {
            "text/plain": [
              "<Figure size 640x480 with 1 Axes>"
            ],
            "image/png": "[encoded data removed]"
          },
          "metadata": {}
        }
      ]
    },
    {
      "cell_type": "markdown",
      "source": [
        "## EXERCISE 5:\n",
        "\n",
        "Consider the functions \\\\\n",
        "\n",
        "$$\n",
        "f_k(x) = sin(k\\pi x), \\quad k\\in\\mathbb{N} \\quad on (0, 1) \\\\\n",
        "$$\n",
        "\n",
        "Use Firedrale to verify numerically that $(f_j, f_k) = 0$ for $ k \\neq j$, where $(⋅,\\cdot)$ is the $L^2, H^1$ or $H_0^1$ scalar product."
      ],
      "metadata": {
        "id": "5LcBMsZrdf1N"
      }
    },
    {
      "cell_type": "markdown",
      "source": [
        "### Solution:"
      ],
      "metadata": {
        "id": "zPIJ9C-PpM49"
      }
    },
    {
      "cell_type": "markdown",
      "source": [
        "The inner product in $L^2$ is: \\\\\n",
        "$(u,v)_{L^2}(\\Omega) = ∫_{\\Omega}u\\cdot v~dx$ \\\\\n",
        "\n",
        "The inner product in $H^1$ insteas: \\\\\n",
        "$(u,v)_{H^1(\\Omega)} = (u,v)_{L^2(\\Omega)}+(∇u,∇v)_{L^2(Ω)}$"
      ],
      "metadata": {
        "id": "JS66shDkfglw"
      }
    },
    {
      "cell_type": "code",
      "source": [
        "# Download firedrake\n",
        "try:\n",
        "  import firedrake\n",
        "except ImportError:\n",
        "  !wget \"https://fem-on-colab.github.io/releases/firedrake-install-real.sh\" -O \"/tmp/firedrake-install.sh\" && bash \"/tmp/firedrake-install.sh\"\n",
        "  import firedrak"
      ],
      "metadata": {
        "id": "waHB_FaJdkza"
      },
      "execution_count": null,
      "outputs": []
    },
    {
      "cell_type": "code",
      "source": [
        "import firedrake as fd\n",
        "import firedrake.pyplot as fdplt\n",
        "import numpy as np\n",
        "import matplotlib.pyplot as plt"
      ],
      "metadata": {
        "id": "4_So46IsiaGf"
      },
      "execution_count": null,
      "outputs": []
    },
    {
      "cell_type": "markdown",
      "source": [
        "NON ho idea di come farlo"
      ],
      "metadata": {
        "id": "VWtpHSvljc5x"
      }
    }
  ]
}