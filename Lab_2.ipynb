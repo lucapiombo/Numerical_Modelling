{
  "nbformat": 4,
  "nbformat_minor": 0,
  "metadata": {
    "colab": {
      "provenance": []
    },
    "kernelspec": {
      "name": "python3",
      "display_name": "Python 3"
    },
    "language_info": {
      "name": "python"
    }
  },
  "cells": [
    {
      "cell_type": "markdown",
      "source": [
        "# LAB 2\n",
        "In this lab, we start with the 1D Poisson problem, and solve it by **FINITE ELEMENTS** using FIREDRAKE."
      ],
      "metadata": {
        "id": "TUpeRVbxrVpf"
      }
    },
    {
      "cell_type": "code",
      "source": [
        "# Installation of firedrake\n",
        "try:\n",
        "  import firedrake\n",
        "except ImportError:\n",
        "  !wget \"https://fem-on-colab.github.io/releases/firedrake-install-real.sh\" -O \"/tmp/firedrake-install.sh\" && bash \"/tmp/firedrake-install.sh\"\n",
        "  import firedrak"
      ],
      "metadata": {
        "id": "mw9py37ZvbVA"
      },
      "execution_count": null,
      "outputs": []
    },
    {
      "cell_type": "code",
      "source": [
        "import firedrake as fd\n",
        "import numpy as np\n",
        "import firedrake.pyplot as fdplt\n",
        "import matplotlib.pyplot as plt"
      ],
      "metadata": {
        "id": "OH-anKbSroot"
      },
      "execution_count": null,
      "outputs": []
    },
    {
      "cell_type": "markdown",
      "source": [
        "## EXERCISE 1:\n",
        "\n",
        "Consider problem\n",
        "$$\n",
        "\\begin{cases}\n",
        "-u'' = f & \\text{in $(0, 1)$} \\\\\n",
        "u(0) = u(1) = 0\n",
        "\\end{cases}\n",
        "$$\n",
        "with\n",
        "$$\n",
        "f = \\sin(2 \\pi x),\n",
        "$$\n",
        "so that the exact solution is\n",
        "$$\n",
        "u = \\dfrac{1}{4 \\pi^2} \\sin(2 \\pi x).\n",
        "$$\n",
        "\n",
        "(a) Solve the problem using Firedrake and $P^1$ elements. \\\\\n",
        "(b) Verify the convergence rate. Try increasing the order of the finite element spaces used $(P^2, P^3, ...)$."
      ],
      "metadata": {
        "id": "iF-RIDFxraS9"
      }
    },
    {
      "cell_type": "markdown",
      "source": [
        "### (a) Solve the problem using Firedrake and $P^1$ elements."
      ],
      "metadata": {
        "id": "TKItnn0YzILB"
      }
    },
    {
      "cell_type": "markdown",
      "source": [
        "The types of finite elements available in Firedrake are listed in https://firedrakeproject.org/variational-problems.html#supported-finite-elements."
      ],
      "metadata": {
        "id": "CiSrerP9tHTz"
      }
    },
    {
      "cell_type": "code",
      "execution_count": null,
      "metadata": {
        "id": "27B4TgCWqvwT"
      },
      "outputs": [],
      "source": [
        "# Number of division\n",
        "N = 20\n",
        "\n",
        "# Here we don't need to specify the interval extrema becaus there is a comand\n",
        "# on Firedrake that makes automatically the mesh by itself between (0, 1)"
      ]
    },
    {
      "cell_type": "code",
      "source": [
        "def solve_FE(N):\n",
        "  '''\n",
        "  Solves Poissons eq. on [0, 1], with N grid points and forcing term g(x) using\n",
        "  Finite Elements method for P1 order polinomial\n",
        "  '''\n",
        "  # Build the mesh\n",
        "  mesh = fd.UnitIntervalMesh(N) # This is alredy in (0, 1)\n",
        "  x = fd.SpatialCoordinate(mesh) # Give a name to the coordinates in the mesh\n",
        "\n",
        "  # Define a discrete function space V\n",
        "  V = fd.FunctionSpace(mesh, 'Lagrange', 1) # Define the finite space V to which belongs\n",
        "                                            # u and v as the Lagrange polinomial of\n",
        "                                            # degree 1 in the domain defined by the\n",
        "                                            # mesh\n",
        "\n",
        "\n",
        "  # Define trial and test functions as belonging to the space\n",
        "  u = fd.TrialFunction(V) # Trial function\n",
        "  v = fd.TestFunction(V) # Test function\n",
        "\n",
        "\n",
        "  # Define the boundary condition (in our case homogeneous Dirichlet)\n",
        "  bc = fd.DirichletBC(V, fd.Constant(0.), \"on_boundary\") # on_boundary is a keyword to set boundary conditions on all boundaries\n",
        "\n",
        "\n",
        "  # Define the function of your problem\n",
        "  f = fd.sin(2*np.pi*x[0]) # Use it to define the function as an UFL expression\n",
        "\n",
        "\n",
        "\n",
        "  # Define the variational problem\n",
        "  a = fd.dot(fd.grad(u), fd.grad(v)) * fd.dx # Bilinear form\n",
        "  L = f*v*fd.dx # Linear function\n",
        "\n",
        "  # fd.dx automatically chooses a quadrature scheme by estimating\n",
        "  # the required degree of exactness. We can also impose the\n",
        "  # degree by writing, for example, fd.dx(degree=2)\n",
        "\n",
        "  # As you can see, we are writing fd quite a lot of times...\n",
        "  # From the next time, we will import all of Firedrake using\n",
        "  # from firedrake import *\n",
        "\n",
        "\n",
        "  # Solve the problem:\n",
        "  u_h = fd.Function(V) # Define the solution as belonging to the space V\n",
        "  fd.solve(a == L, u_h, bc)\n",
        "\n",
        "  return u_h, mesh, x"
      ],
      "metadata": {
        "id": "GfLQoOP0ry6q"
      },
      "execution_count": null,
      "outputs": []
    },
    {
      "cell_type": "markdown",
      "source": [
        "We have two choices for plotting the exact solution:\n",
        " - define it as an ufl expression and project it on a finer mesh, or on a higher degree basis on the same mesh, and plot using Firedrake;\n",
        " - define it as a lambda function and plot using matplotlib."
      ],
      "metadata": {
        "id": "NIT3p6mOr-JR"
      }
    },
    {
      "cell_type": "code",
      "source": [
        "# Get the approximate solution\n",
        "u_h, mesh, x = solve_FE(N)"
      ],
      "metadata": {
        "id": "2vRr3gxZyVxk"
      },
      "execution_count": null,
      "outputs": []
    },
    {
      "cell_type": "code",
      "source": [
        "# Define the exact solution\n",
        "u_ex = 1/(4*np.pi**2) * fd.sin(2*np.pi*x[0]) # Exact solution (given by the problem)\n",
        "V3 = fd.FunctionSpace(mesh, 'Lagrange', 3) # Set the space for the exact solution plot"
      ],
      "metadata": {
        "id": "czewdnbGuuhN"
      },
      "execution_count": null,
      "outputs": []
    },
    {
      "cell_type": "code",
      "source": [
        "# Plot the results:\n",
        "fig, ax = plt.subplots()\n",
        "fdplt.plot(u_h, axes=ax, color='b', label='Approximate solution')\n",
        "fdplt.plot(fd.project(u_ex, V3), axes=ax, color='r', label='Exact solution')\n",
        "ax.legend()\n",
        "ax.grid()"
      ],
      "metadata": {
        "colab": {
          "base_uri": "https://localhost:8080/",
          "height": 430
        },
        "id": "gGEqRyvYr_WH",
        "outputId": "d402d6c7-efe4-49d9-fb22-7d9edf06503f"
      },
      "execution_count": null,
      "outputs": [
        {
          "output_type": "display_data",
          "data": {
            "text/plain": [
              "<Figure size 640x480 with 1 Axes>"
            ],
            "image/png": "[encoded data removed]"
          },
          "metadata": {}
        }
      ]
    },
    {
      "cell_type": "markdown",
      "source": [
        "### (b) Verify the convergence rate. Try increasing the order of the finite element spaces used $(P^2, P^3, ...)$."
      ],
      "metadata": {
        "id": "kFf8DgkWy6kc"
      }
    },
    {
      "cell_type": "code",
      "source": [
        "# Set number of points:\n",
        "N = 20\n"
      ],
      "metadata": {
        "id": "_vmWR_hXzQ7e"
      },
      "execution_count": null,
      "outputs": []
    },
    {
      "cell_type": "code",
      "source": [
        "def solve_FE_recorsive(N, P):\n",
        "  '''\n",
        "  Solves Poissons eq. on [0, 1], with N grid points and forcing term g(x) using\n",
        "  Finite Elements method for P-order polinomial\n",
        "  '''\n",
        "  # Build the mesh\n",
        "  mesh = fd.UnitIntervalMesh(N) # This is alredy in (0, 1)\n",
        "  x = fd.SpatialCoordinate(mesh) # Give a name to the coordinates in the mesh\n",
        "\n",
        "  # Define a discrete function space V\n",
        "  V = fd.FunctionSpace(mesh, 'Lagrange', P) # Define the finite space V to which belongs\n",
        "                                            # u and v as the Lagrange polinomial of\n",
        "                                            # degree 1 in the domain defined by the\n",
        "                                            # mesh\n",
        "\n",
        "\n",
        "  # Define trial and test functions as belonging to the space\n",
        "  u = fd.TrialFunction(V) # Trial function\n",
        "  v = fd.TestFunction(V) # Test function\n",
        "\n",
        "\n",
        "  # Define the boundary condition (in our case homogeneous Dirichlet)\n",
        "  bc = fd.DirichletBC(V, fd.Constant(0.), \"on_boundary\") # on_boundary is a keyword to set boundary conditions on all boundaries\n",
        "\n",
        "\n",
        "  # Define the function of your problem\n",
        "  f = fd.sin(2*np.pi*x[0]) # Use it to define the function as an UFL expression\n",
        "\n",
        "\n",
        "\n",
        "  # Define the variational problem\n",
        "  a = fd.dot(fd.grad(u), fd.grad(v)) * fd.dx # Bilinear form\n",
        "  L = f*v*fd.dx # Linear function\n",
        "\n",
        "  # fd.dx automatically chooses a quadrature scheme by estimating\n",
        "  # the required degree of exactness. We can also impose the\n",
        "  # degree by writing, for example, fd.dx(degree=2)\n",
        "\n",
        "  # As you can see, we are writing fd quite a lot of times...\n",
        "  # From the next time, we will import all of Firedrake using\n",
        "  # from firedrake import *\n",
        "\n",
        "\n",
        "  # Solve the problem:\n",
        "  u_h = fd.Function(V) # Define the solution as belonging to the space V\n",
        "  fd.solve(a == L, u_h, bc)\n",
        "\n",
        "\n",
        "  # Compute errors;\n",
        "  u_ex = 1/(4*np.pi**2) * fd.sin(2*np.pi*x[0])# Exact solution:\n",
        "  err_H1 = fd.errornorm(u_ex, u_h, norm_type='H1')\n",
        "  err_L2 = fd.errornorm(u_ex, u_h, norm_type='L2')\n",
        "\n",
        "  return u_h, err_H1, err_L2"
      ],
      "metadata": {
        "id": "oY77hTP-zVBp"
      },
      "execution_count": null,
      "outputs": []
    },
    {
      "cell_type": "code",
      "source": [
        "# Define array of polynomial orders\n",
        "P = np.array((1, 2, 3, 4, 5, 6, 7))\n",
        "\n",
        "# Initialize arry of errors\n",
        "err_H1_vec = []\n",
        "err_L2_vec = []\n",
        "\n",
        "for ii in range(len(P)):\n",
        "  u_h, err_H1, err_L2 = solve_FE_recorsive(N, int(P[ii]))\n",
        "  err_H1_vec.append(err_H1)\n",
        "  err_L2_vec.append(err_L2)"
      ],
      "metadata": {
        "id": "bCy23GqdzstI",
        "colab": {
          "base_uri": "https://localhost:8080/",
          "height": 211
        },
        "outputId": "e1f1b163-02af-437b-ece1-0c132165477c"
      },
      "execution_count": null,
      "outputs": [
        {
          "output_type": "error",
          "ename": "NameError",
          "evalue": "name 'np' is not defined",
          "traceback": [
            "\u001b[0;31m---------------------------------------------------------------------------\u001b[0m",
            "\u001b[0;31mNameError\u001b[0m                                 Traceback (most recent call last)",
            "\u001b[0;32m<ipython-input-3-821779fbf742>\u001b[0m in \u001b[0;36m<cell line: 2>\u001b[0;34m()\u001b[0m\n\u001b[1;32m      1\u001b[0m \u001b[0;31m# Define array of polynomial orders\u001b[0m\u001b[0;34m\u001b[0m\u001b[0;34m\u001b[0m\u001b[0m\n\u001b[0;32m----> 2\u001b[0;31m \u001b[0mP\u001b[0m \u001b[0;34m=\u001b[0m \u001b[0mnp\u001b[0m\u001b[0;34m.\u001b[0m\u001b[0marray\u001b[0m\u001b[0;34m(\u001b[0m\u001b[0;34m(\u001b[0m\u001b[0;36m1\u001b[0m\u001b[0;34m,\u001b[0m \u001b[0;36m2\u001b[0m\u001b[0;34m,\u001b[0m \u001b[0;36m3\u001b[0m\u001b[0;34m,\u001b[0m \u001b[0;36m4\u001b[0m\u001b[0;34m,\u001b[0m \u001b[0;36m5\u001b[0m\u001b[0;34m,\u001b[0m \u001b[0;36m6\u001b[0m\u001b[0;34m,\u001b[0m \u001b[0;36m7\u001b[0m\u001b[0;34m)\u001b[0m\u001b[0;34m)\u001b[0m\u001b[0;34m\u001b[0m\u001b[0;34m\u001b[0m\u001b[0m\n\u001b[0m\u001b[1;32m      3\u001b[0m \u001b[0;34m\u001b[0m\u001b[0m\n\u001b[1;32m      4\u001b[0m \u001b[0;31m# Initialize arry of errors\u001b[0m\u001b[0;34m\u001b[0m\u001b[0;34m\u001b[0m\u001b[0m\n\u001b[1;32m      5\u001b[0m \u001b[0merr_H1_vec\u001b[0m \u001b[0;34m=\u001b[0m \u001b[0;34m[\u001b[0m\u001b[0;34m]\u001b[0m\u001b[0;34m\u001b[0m\u001b[0;34m\u001b[0m\u001b[0m\n",
            "\u001b[0;31mNameError\u001b[0m: name 'np' is not defined"
          ]
        }
      ]
    },
    {
      "cell_type": "code",
      "source": [
        "# Plot errors\n",
        "fig, ax = plt.subplots()\n",
        "ax.loglog(P, err_H1_vec, '*', label='FEM')\n",
        "ax.loglog(P, 1e-1*1/P, '--', label='$Order 1$')\n",
        "ax.loglog(P, 1e-1*1/P**2, '--', label='$Order 2$')\n",
        "ax.loglog(P, 1e-1*1/P**3, '--', label='$Order 3$')\n",
        "ax.loglog(P, 1e-1*1/P**4, '--', label='$Order 4$')\n",
        "ax.grid(which='minor')\n",
        "ax.set_title('$H^1$ error')\n",
        "ax.legend()\n",
        "\n",
        "fig, ax = plt.subplots()\n",
        "ax.loglog(P, err_L2_vec, '*', label='FEM')\n",
        "ax.loglog(P, 1e-2*1/P**2, '--', label='$P^{-2}$')\n",
        "ax.grid(which='minor')\n",
        "ax.set_title('$L^2$ error')\n",
        "ax.legend()"
      ],
      "metadata": {
        "id": "dL3PY3sG0xWg"
      },
      "execution_count": null,
      "outputs": []
    },
    {
      "cell_type": "markdown",
      "source": [
        "## EXERCISE 2\n",
        "Prove that the $1D$ finite element method with $P1$ elements and trapezoidal integration for the right hand side coincides with the finite difference method for the Poisson problem with Dirichlet conditions."
      ],
      "metadata": {
        "id": "6ASUue6IsPl3"
      }
    },
    {
      "cell_type": "markdown",
      "source": [
        "### Solution:"
      ],
      "metadata": {
        "id": "wo_Hhv206cuY"
      }
    },
    {
      "cell_type": "markdown",
      "source": [
        "The right hand side for FE is built element by element. We only consider interior nodes, since Dirichlet conditions fix the first and last elements of the RHS vector, corresponding to the endpoints of the interval.\n",
        "$$\n",
        "\\begin{split}\n",
        "b_i &= \\int_0^1 f(x) \\varphi_i(x) dx = \\int_{x_{i-1}}^{x_i} f(x) \\varphi_i(x) dx + \\int_{x_i}^{x_{i+1}} f(x) \\varphi_i(x) dx \\\\\n",
        "& \\approx \\frac{h}{2} [f(x_{i-1})\\underbrace{\\varphi_i(x_{i-1})}_{=0} + f(x_{i})\\underbrace{\\varphi_i(x_{i})}_{=1}] + \\frac{h}{2} [f(x_{i})\\varphi_i(x_{i}) + f(x_{i+1})\\underbrace{\\varphi_i(x_{i+1})}_{=0}] \\\\\n",
        "&= h f(x_{i})\n",
        "\\end{split}\n",
        "$$\n",
        "We have thus proved that with this choice of integration scheme, the FE right hand side is equal to the FD right hand side (up to a factor $h$). In the following code, we verify that Firedrake is using midpoint integration by default."
      ],
      "metadata": {
        "id": "2Kwt9NZssRmg"
      }
    },
    {
      "cell_type": "markdown",
      "source": [
        "## EXERCISE 3\n",
        "\n",
        "Consider problem: \\\\\n",
        "\n",
        "$$\n",
        "\\begin{cases}\n",
        "-u'' = f & \\text{in $(0, 1)$} \\\\\n",
        "u(0) = u(1) = 0\n",
        "\\end{cases}\n",
        "$$\n",
        "with\n",
        "$$\n",
        "f = \\begin{cases}\n",
        "1, & x \\leq 1/2 \\\\\n",
        "0, & x > 1/2\n",
        "\\end{cases}.\n",
        "$$ \\\\\n",
        "\n",
        "Verify that the exact solution is \\\\\n",
        "\n",
        "$$\n",
        "u = \\begin{cases}\n",
        "\\frac{3}{8}x - \\frac{1}{2} x^2, & x \\leq 1/2 \\\\\n",
        "\\frac{1}{8}(1-x), & x > 1/2\n",
        "\\end{cases}.\n",
        "$$ \\\\\n",
        "\n",
        "Solve the problem using finite elements of increasing degree and check the convergence rate with respect to the number of elements. What do you expect, and what do you observe? Hint: you will need to use the ``fd.conditional`` statement (see https://fenics.readthedocs.io/projects/ufl/en/latest/manual/form_language.html?highlight=conditional#conditional). Notice what happens when using an odd vs an even number of elements (see [Remark 3.2, PDEPAE])."
      ],
      "metadata": {
        "id": "3IhrD32d64J7"
      }
    },
    {
      "cell_type": "markdown",
      "source": [
        "It is the same as exercise 1, but we just need to change f:"
      ],
      "metadata": {
        "id": "V0p3dONV9GHx"
      }
    },
    {
      "cell_type": "code",
      "source": [
        "def solve_FE_recorsive_ex3(N, P):\n",
        "  '''\n",
        "  Solves Poissons eq. on [0, 1], with N grid points and forcing term g(x) using\n",
        "  Finite Elements method for P-order polinomial\n",
        "  '''\n",
        "  # Build the mesh\n",
        "  mesh = fd.UnitIntervalMesh(N) # This is alredy in (0, 1)\n",
        "  x = fd.SpatialCoordinate(mesh) # Give a name to the coordinates in the mesh\n",
        "\n",
        "  # Define a discrete function space V\n",
        "  V = fd.FunctionSpace(mesh, 'Lagrange', P) # Define the finite space V to which belongs\n",
        "                                            # u and v as the Lagrange polinomial of\n",
        "                                            # degree 1 in the domain defined by the\n",
        "                                            # mesh\n",
        "\n",
        "\n",
        "  # Define trial and test functions as belonging to the space\n",
        "  u = fd.TrialFunction(V) # Trial function\n",
        "  v = fd.TestFunction(V) # Test function\n",
        "\n",
        "\n",
        "  # Define the boundary condition (in our case homogeneous Dirichlet)\n",
        "  bc = fd.DirichletBC(V, fd.Constant(0.), \"on_boundary\") # on_boundary is a keyword to set boundary conditions on all boundaries\n",
        "\n",
        "\n",
        "  # Define the function of your problem\n",
        "  f = fd.conditional(x[0]<=1/2, 1, 0) # Use it to define the function as an UFL expression\n",
        "\n",
        "\n",
        "\n",
        "  # Define the variational problem\n",
        "  a = fd.dot(fd.grad(u), fd.grad(v)) * fd.dx # Bilinear form\n",
        "  L = f*v*fd.dx # Linear function\n",
        "\n",
        "\n",
        "  # Solve the problem:\n",
        "  u_h = fd.Function(V) # Define the solution as belonging to the space V\n",
        "  fd.solve(a == L, u_h, bc)\n",
        "\n",
        "  return u_h, mesh"
      ],
      "metadata": {
        "id": "R99I6iVk9Aey"
      },
      "execution_count": null,
      "outputs": []
    },
    {
      "cell_type": "code",
      "source": [
        "P = 2 # Degree of the polinomial approx.\n",
        "\n",
        "#N_vec = np.arange(10, 40, 2) # for even numbers\n",
        "#N_vec = np.arange(11, 40, 2) # for odd numbers\n",
        "N_vec = np.arange(10, 40) # all\n",
        "\n",
        "# Initialize vectors of errors\n",
        "err_H1_vec = []\n",
        "err_L2_vec = []\n",
        "\n",
        "for N in N_vec:\n",
        "    u_h, mesh = solve_FE_recorsive_ex3(N, P)\n",
        "\n",
        "    x = fd.SpatialCoordinate(mesh)\n",
        "    u_ex = fd.conditional(x[0]<1/2,\n",
        "                      1/(4*np.pi**2) * fd.sin(2*np.pi*x[0]) + 1/(4*np.pi)*x[0],\n",
        "                      1/(4*np.pi) * (1 - x[0]))\n",
        "    err_H1_vec.append(fd.errornorm(u_ex, u_h, norm_type='H1'))\n",
        "    err_L2_vec.append(fd.errornorm(u_ex, u_h, norm_type='L2'))\n"
      ],
      "metadata": {
        "id": "Njt8kyuh7n1U"
      },
      "execution_count": null,
      "outputs": []
    },
    {
      "cell_type": "code",
      "source": [
        "#Estimate the order of convergence\n",
        "p_H1 = (np.log(err_H1_vec[0]) - np.log(err_H1_vec[-1]))/(np.log(N_vec[-1]) - np.log(N_vec[0]))\n",
        "p_L2 = (np.log(err_L2_vec[0]) - np.log(err_L2_vec[-1]))/(np.log(N_vec[-1]) - np.log(N_vec[0]))\n",
        "print('Order of convergence in H1 norm = ', p_H1)\n",
        "print('Order of convergence in L2 norm = ', p_L2)\n",
        "# Since the solution is in H^2 but not in H^3, we have s=1 in the theorem"
      ],
      "metadata": {
        "colab": {
          "base_uri": "https://localhost:8080/"
        },
        "id": "WcHhaZtW-p_G",
        "outputId": "82211bac-e84b-4d4e-f914-0cc0b194d351"
      },
      "execution_count": null,
      "outputs": [
        {
          "output_type": "stream",
          "name": "stdout",
          "text": [
            "Order of convergence in H1 norm =  -0.00012762803423350906\n",
            "Order of convergence in L2 norm =  -2.293801456561592e-05\n"
          ]
        }
      ]
    },
    {
      "cell_type": "code",
      "source": [
        "#Plot of errors:\n",
        "fig, ax = plt.subplots()\n",
        "ax.loglog(N_vec, err_H1_vec, label=r'$H^1$')\n",
        "ax.loglog(N_vec, err_L2_vec, label=r'$L^2$')"
      ],
      "metadata": {
        "colab": {
          "base_uri": "https://localhost:8080/",
          "height": 451
        },
        "id": "ZlCoPnuJ-tBf",
        "outputId": "c1e1dbd4-7d1c-43aa-b1fc-6d675ef83126"
      },
      "execution_count": null,
      "outputs": [
        {
          "output_type": "execute_result",
          "data": {
            "text/plain": [
              "[<matplotlib.lines.Line2D at 0x79d7ecf2a140>]"
            ]
          },
          "metadata": {},
          "execution_count": 188
        },
        {
          "output_type": "display_data",
          "data": {
            "text/plain": [
              "<Figure size 640x480 with 1 Axes>"
            ],
            "image/png": "[encoded data removed]"
          },
          "metadata": {}
        }
      ]
    },
    {
      "cell_type": "markdown",
      "source": [
        "## EXERCISE 4\n",
        "\n",
        "Repeat problem 3 using the forcing term \\\\\n",
        "$$\n",
        "f = \\begin{cases}\n",
        "\\sin(2 \\pi x), & x \\leq 1/2 \\\\\n",
        "0, & x > 1/2\n",
        "\\end{cases}.\n",
        "$$"
      ],
      "metadata": {
        "id": "C6Br2Q-17WDO"
      }
    },
    {
      "cell_type": "markdown",
      "source": [
        "It is the same as exercise 1, but we just need to change f:"
      ],
      "metadata": {
        "id": "F3mET8_A_t87"
      }
    },
    {
      "cell_type": "code",
      "source": [
        "def solve_FE_recorsive_ex3(N, P):\n",
        "  '''\n",
        "  Solves Poissons eq. on [0, 1], with N grid points and forcing term g(x) using\n",
        "  Finite Elements method for P-order polinomial\n",
        "  '''\n",
        "  # Build the mesh\n",
        "  mesh = fd.UnitIntervalMesh(N) # This is alredy in (0, 1)\n",
        "  x = fd.SpatialCoordinate(mesh) # Give a name to the coordinates in the mesh\n",
        "\n",
        "  # Define a discrete function space V\n",
        "  V = fd.FunctionSpace(mesh, 'Lagrange', P) # Define the finite space V to which belongs\n",
        "                                            # u and v as the Lagrange polinomial of\n",
        "                                            # degree 1 in the domain defined by the\n",
        "                                            # mesh\n",
        "\n",
        "\n",
        "  # Define trial and test functions as belonging to the space\n",
        "  u = fd.TrialFunction(V) # Trial function\n",
        "  v = fd.TestFunction(V) # Test function\n",
        "\n",
        "\n",
        "  # Define the boundary condition (in our case homogeneous Dirichlet)\n",
        "  bc = fd.DirichletBC(V, fd.Constant(0.), \"on_boundary\") # on_boundary is a keyword to set boundary conditions on all boundaries\n",
        "\n",
        "\n",
        "  # Define the function of your problem\n",
        "  f = fd.conditional(x[0]<=1/2, fd.sin(2*np.pi*x[0]), 0) # Use it to define the function as an UFL expression\n",
        "\n",
        "\n",
        "\n",
        "  # Define the variational problem\n",
        "  a = fd.dot(fd.grad(u), fd.grad(v)) * fd.dx # Bilinear form\n",
        "  L = f*v*fd.dx # Linear function\n",
        "\n",
        "\n",
        "  # Solve the problem:\n",
        "  u_h = fd.Function(V) # Define the solution as belonging to the space V\n",
        "  fd.solve(a == L, u_h, bc)\n",
        "\n",
        "  return u_h, mesh"
      ],
      "metadata": {
        "id": "OHB_HWC9_t88"
      },
      "execution_count": null,
      "outputs": []
    },
    {
      "cell_type": "code",
      "source": [
        "P = 2 # Degree of the polinomial approx.\n",
        "\n",
        "#N_vec = np.arange(10, 40, 2) # for even numbers\n",
        "#N_vec = np.arange(11, 40, 2) # for odd numbers\n",
        "N_vec = np.arange(10, 40) # all\n",
        "\n",
        "# Initialize vectors of errors\n",
        "err_H1_vec = []\n",
        "err_L2_vec = []\n",
        "\n",
        "for N in N_vec:\n",
        "    u_h, mesh = solve_FE_recorsive_ex3(N, P)\n",
        "\n",
        "    x = fd.SpatialCoordinate(mesh)\n",
        "    u_ex = fd.conditional(x[0]<1/2,\n",
        "                      1/(4*np.pi**2) * fd.sin(2*np.pi*x[0]) + 1/(4*np.pi)*x[0],\n",
        "                      1/(4*np.pi) * (1 - x[0]))\n",
        "    err_H1_vec.append(fd.errornorm(u_ex, u_h, norm_type='H1'))\n",
        "    err_L2_vec.append(fd.errornorm(u_ex, u_h, norm_type='L2'))\n"
      ],
      "metadata": {
        "id": "lU0V8BA__t88"
      },
      "execution_count": null,
      "outputs": []
    },
    {
      "cell_type": "code",
      "source": [
        "#Estimate the order of convergence\n",
        "p_H1 = (np.log(err_H1_vec[0]) - np.log(err_H1_vec[-1]))/(np.log(N_vec[-1]) - np.log(N_vec[0]))\n",
        "p_L2 = (np.log(err_L2_vec[0]) - np.log(err_L2_vec[-1]))/(np.log(N_vec[-1]) - np.log(N_vec[0]))\n",
        "print('Order of convergence in H1 norm = ', p_H1)\n",
        "print('Order of convergence in L2 norm = ', p_L2)\n",
        "# Since the solution is in H^2 but not in H^3, we have s=1 in the theorem"
      ],
      "metadata": {
        "colab": {
          "base_uri": "https://localhost:8080/"
        },
        "outputId": "51f87434-8692-47ee-d3cb-aeb201608d85",
        "id": "dABa6pvb_t88"
      },
      "execution_count": null,
      "outputs": [
        {
          "output_type": "stream",
          "name": "stdout",
          "text": [
            "Order of convergence in H1 norm =  1.9246221458614845\n",
            "Order of convergence in L2 norm =  0.402068559999671\n"
          ]
        }
      ]
    },
    {
      "cell_type": "code",
      "source": [
        "#Plot of errors:\n",
        "fig, ax = plt.subplots()\n",
        "ax.loglog(N_vec, err_H1_vec, label=r'$H^1$')\n",
        "ax.loglog(N_vec, err_L2_vec, label=r'$L^2$')"
      ],
      "metadata": {
        "colab": {
          "base_uri": "https://localhost:8080/",
          "height": 451
        },
        "outputId": "1c1e8fdf-be9e-4885-f844-0309a4c5091f",
        "id": "-once6Yp_t88"
      },
      "execution_count": null,
      "outputs": [
        {
          "output_type": "execute_result",
          "data": {
            "text/plain": [
              "[<matplotlib.lines.Line2D at 0x79d7ec5927a0>]"
            ]
          },
          "metadata": {},
          "execution_count": 192
        },
        {
          "output_type": "display_data",
          "data": {
            "text/plain": [
              "<Figure size 640x480 with 1 Axes>"
            ],
            "image/png": "[encoded data removed]"
          },
          "metadata": {}
        }
      ]
    },
    {
      "cell_type": "markdown",
      "source": [
        "## EXERCISE 5\n",
        "\n",
        "Consider problem\n",
        "$$\n",
        "\\begin{cases}\n",
        "-u'' = f & \\text{in $(0, 1)$} \\\\\n",
        "u(0) = 1 \\\\\n",
        "u(1) = 0\n",
        "\\end{cases}\n",
        "$$\n",
        "with\n",
        "$$\n",
        "f = e^{-x} (x-3),\n",
        "$$\n",
        "so that the exact solution is\n",
        "$$\n",
        "u = e^{-x}(1-x).\n",
        "$$ \\\\\n",
        "\n",
        "(a) Define a lifting $R(x)$ of the boundary condition to make the problem homogeneous. Compute the solution using firedrake. \\\\\n",
        "(b) Compute the solution of the non-homogeneous problem directly using Firedrake."
      ],
      "metadata": {
        "id": "Na83kM7Q7w6F"
      }
    },
    {
      "cell_type": "markdown",
      "source": [
        "### (a) Define a lifting $R(x)$ of the boundary condition to make the problem homogeneous. Compute the solution using firedrake."
      ],
      "metadata": {
        "id": "QTp3D9-EAN2P"
      }
    },
    {
      "cell_type": "markdown",
      "source": [
        "We can recover a problem with homogeneous conditions by defining the lifting of the boundary condition as a function $R$ defined on the entire domain and satisfying the boundary conditions.\n",
        "We may take\n",
        "$$\n",
        "R = 1-x, \\quad u = \\tilde{u} + R,\n",
        "$$\n",
        "and then solve for $\\tilde{u}$ in\n",
        "$$\n",
        "\\begin{cases}\n",
        "-\\tilde{u}'' = f & \\text{in $(0, 1)$} \\\\\n",
        "\\tilde{u}(0) = \\tilde{u}(1) = 0.\n",
        "\\end{cases}\n",
        "$$ \\\\\n",
        "\n",
        "In this way the problem has become homogeneous and we can solve it as usual."
      ],
      "metadata": {
        "id": "KL12YuL48ENd"
      }
    },
    {
      "cell_type": "code",
      "source": [
        "# To be faster let's just import everything from firedrake:\n",
        "from firedrake import *"
      ],
      "metadata": {
        "id": "sUIVHiEpAkcZ"
      },
      "execution_count": null,
      "outputs": []
    },
    {
      "cell_type": "code",
      "source": [
        "# Define number of elemenents\n",
        "N = 20"
      ],
      "metadata": {
        "id": "4mIZFPtnDA6c"
      },
      "execution_count": null,
      "outputs": []
    },
    {
      "cell_type": "code",
      "source": [
        "# Build the mesh\n",
        "mesh = UnitIntervalMesh(N)\n",
        "x = SpatialCoordinate(mesh)[0] # Give a name to the coordinates in the mesh\n",
        "                               # You add [0] at the end because it is the same\n",
        "                               # as then recall it inside f or u_ex or wherever\n",
        "                               # you need to recall it without specify x[0]\n",
        "\n",
        "\n",
        "# Define a discrete function space V\n",
        "V = FunctionSpace(mesh, 'Lagrange', 1)\n",
        "\n",
        "\n",
        "# Define trial and test functions as belonging to the space\n",
        "u = TrialFunction(V) # Trial function\n",
        "v = TestFunction(V) # Test function\n",
        "\n",
        "\n",
        "# Define the boundary condition (in our case homogeneous Dirichlet)\n",
        "bc = DirichletBC(V, fd.Constant(0.), \"on_boundary\") # on_boundary is a keyword to set boundary conditions on all boundaries\n",
        "\n",
        "\n",
        "# Define the function of your problem\n",
        "f = exp(-x)*(x-3) # Use it to define the function as an UFL expression\n",
        "\n",
        "\n",
        "# Define the variational problem\n",
        "a = dot(grad(u), grad(v)) * dx # Bilinear form\n",
        "L = f*v*dx # Linear function\n",
        "\n",
        "\n",
        "# Solve the problem:\n",
        "u_tilde = Function(V) # Define the solution as belonging to the space V\n",
        "solve(a==L, u_tilde, bcs=bc)\n",
        "\n",
        "\n",
        "# Reconstruct using the lifting\n",
        "R = 1 - x # Lifting of the boundary condition\n",
        "u_h = project(u_tilde + R, V) # We need to interpolate because the two objects are defined in different ways\n"
      ],
      "metadata": {
        "id": "FKV0zvH_7wrz"
      },
      "execution_count": null,
      "outputs": []
    },
    {
      "cell_type": "code",
      "source": [
        "# Exact solution:\n",
        "u_ex = lambda x: np.exp(-x)*(1-x)\n",
        "x_u_ex = np.linspace(0, 1, 100)\n"
      ],
      "metadata": {
        "id": "ctdqwbrnCMBG"
      },
      "execution_count": null,
      "outputs": []
    },
    {
      "cell_type": "code",
      "source": [
        "# Plot the exact VS approximate solution:\n",
        "fig, ax = plt.subplots()\n",
        "fdplt.plot(u_h, axes=ax, color='b', label=r'Approximate solution')\n",
        "ax.plot(x_u_ex, u_ex(x_uex), color='r', label=r'Exact solution')\n",
        "ax.legend()"
      ],
      "metadata": {
        "colab": {
          "base_uri": "https://localhost:8080/",
          "height": 447
        },
        "id": "dB9qlgusCQTb",
        "outputId": "eb82b8c6-c607-4991-9a85-512ff0a0236c"
      },
      "execution_count": null,
      "outputs": [
        {
          "output_type": "execute_result",
          "data": {
            "text/plain": [
              "<matplotlib.legend.Legend at 0x79d7ede080a0>"
            ]
          },
          "metadata": {},
          "execution_count": 197
        },
        {
          "output_type": "display_data",
          "data": {
            "text/plain": [
              "<Figure size 640x480 with 1 Axes>"
            ],
            "image/png": "[encoded data removed]"
          },
          "metadata": {}
        }
      ]
    },
    {
      "cell_type": "markdown",
      "source": [
        "### (b) Compute the solution of the non-homogeneous problem directly using Firedrake.\n"
      ],
      "metadata": {
        "id": "gImVOxe-AyPV"
      }
    },
    {
      "cell_type": "markdown",
      "source": [
        "Firedrake can take care of the lifting for us. We just need to specify the non-homogeneous boundary conditions. The procedure is then to build a lifting that belongs to the space of trial functions and that is equal to the boundary condition on boundary nodes and zero in all other mesh nodes. \\\\\n",
        "\n",
        "In this case the NON-homogeneous Boundary Condition is $u(0)=1$ and $u(1)=0$, therefore we can say that the BC is a function: \\\\\n",
        "$$\n",
        "g = 1-x\n",
        "$$"
      ],
      "metadata": {
        "id": "OsZd1NDYExe4"
      }
    },
    {
      "cell_type": "code",
      "source": [
        "N = 20\n",
        "# Build the mesh\n",
        "mesh = UnitIntervalMesh(N)\n",
        "x = SpatialCoordinate(mesh)[0] # Give a name to the coordinates in the mesh\n",
        "                               # You add [0] at the end because it is the same\n",
        "                               # as then recall it inside f or u_ex or wherever\n",
        "                               # you need to recall it without specify x[0]\n",
        "\n",
        "\n",
        "# Define a discrete function space V\n",
        "V = FunctionSpace(mesh, 'Lagrange', 1)\n",
        "\n",
        "\n",
        "# Define trial and test functions as belonging to the space\n",
        "u = TrialFunction(V) # Trial function\n",
        "v = TestFunction(V) # Test function\n",
        "\n",
        "\n",
        "# Define the boundary condition (in our case NON-homogeneous Dirichlet)\n",
        "g = 1 - x\n",
        "bc = DirichletBC(V, g, \"on_boundary\") # on_boundary is a keyword to set boundary conditions on all boundaries\n",
        "\n",
        "\n",
        "# Define the function of your problem\n",
        "f = exp(-x)*(x-3) # Use it to define the function as an UFL expression\n",
        "\n",
        "\n",
        "# Define the variational problem\n",
        "a = dot(grad(u), grad(v)) * dx # Bilinear form\n",
        "L = f*v*dx # Linear function\n",
        "\n",
        "\n",
        "# Solve the problem:\n",
        "u_h = Function(V) # Define the solution as belonging to the space V\n",
        "solve(a==L, u_h, bcs=bc)\n",
        "\n",
        "\n",
        "# Reconstruct using the lifting\n",
        "# R = 1 - x # Lifting of the boundary condition\n",
        "# u_h = project(u_tilde + R, V) # We need to interpolate because the two objects are defined in different ways\n",
        "\n",
        "\n",
        "u_ex = lambda x: np.exp(-x)*(1-x)\n",
        "x_uex = np.linspace(0, 1, 100)\n",
        "\n",
        "fig, ax = plt.subplots()\n",
        "fdplt.plot(u_h, axes=ax, color='b', label=r'$u_h$')\n",
        "ax.plot(x_uex, u_ex(x_uex), color='r', label=r'$u_{ex}$')\n",
        "ax.legend()\n"
      ],
      "metadata": {
        "colab": {
          "base_uri": "https://localhost:8080/",
          "height": 447
        },
        "id": "2RWC_jWNA374",
        "outputId": "73e8a98b-1989-4b4a-fd9e-43c3dee6bd76"
      },
      "execution_count": null,
      "outputs": [
        {
          "output_type": "execute_result",
          "data": {
            "text/plain": [
              "<matplotlib.legend.Legend at 0x79d7ec746920>"
            ]
          },
          "metadata": {},
          "execution_count": 198
        },
        {
          "output_type": "display_data",
          "data": {
            "text/plain": [
              "<Figure size 640x480 with 1 Axes>"
            ],
            "image/png": "[encoded data removed]"
          },
          "metadata": {}
        }
      ]
    },
    {
      "cell_type": "markdown",
      "source": [
        "## EXERCISE 6\n",
        "\n",
        "Consider problem\n",
        "$$\n",
        "\\begin{cases}\n",
        "-u'' = f & \\text{in $(0, 1)$} \\\\\n",
        "u'(0) = g_N\\\\\n",
        "u(1) = 0\n",
        "\\end{cases}\n",
        "$$\n",
        "\n",
        "Show that, for a finite element discretization with P1 elements and trapezoidal integration, the first equation of the algebraic system is\n",
        "$$\n",
        "\\dfrac{u_0 - u_1}{h} = -g_N + \\dfrac{h}{2} f(x_0).\n",
        "$$\n",
        "Using the Taylor series, show that, for smooth functions, this formula has truncation error $\\mathcal{O}(h^2)$, in spite of the left hand side looking like a *first* order accurate finite difference formula."
      ],
      "metadata": {
        "id": "2dfvc9FZ73ez"
      }
    }
  ]
}